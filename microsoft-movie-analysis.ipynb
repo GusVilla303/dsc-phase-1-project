{
 "cells": [
  {
   "cell_type": "markdown",
   "metadata": {},
   "source": [
    "# Microsoft Movie Analysis\n",
    "\n",
    "**Author:** [Gustavo Villagrana](mailto:gusvilla303@gmail.com)\n",
    "***\n",
    "\n",
    "## Overview\n",
    "***\n",
    "This project analyzes the types of films that are currently doing the best at the box office to help the head of Microsoft's new movie studio decide what type of films to create. Since this is Microsoft's first time creating films, it is critical that the best option is clearly identified in order to optimize this investment opportunity. \n",
    "\n",
    "\n",
    "\n",
    "## Business Problem\n",
    "***\n",
    "Microsoft wants to create a new movie studio to produce original content but needs help in identifying what type of films are performing the best at the box office. By identifying the best performing films, Microsoft will be able to leverage its investment resources and maximize profitability. \n",
    "\n",
    "\n",
    "\n",
    "## Data Understanding\n",
    "\n",
    "\n",
    "## Data Preparation\n",
    "\n",
    "\n",
    "## Data Modeling\n",
    "\n",
    "\n",
    "## Evaluation\n",
    "\n",
    "\n",
    "## Conclusions\n",
    "\n",
    "\n",
    "Please fill out:\n",
    "* Student name: \n",
    "* Student pace: self paced / part time / full time\n",
    "* Scheduled project review date/time: \n",
    "* Instructor name: \n",
    "* Blog post URL:\n"
   ]
  },
  {
   "cell_type": "code",
   "execution_count": null,
   "metadata": {},
   "outputs": [],
   "source": [
    "# Your code here - remember to use markdown cells for comments as well!"
   ]
  }
 ],
 "metadata": {
  "kernelspec": {
   "display_name": "Python 3",
   "language": "python",
   "name": "python3"
  },
  "language_info": {
   "codemirror_mode": {
    "name": "ipython",
    "version": 3
   },
   "file_extension": ".py",
   "mimetype": "text/x-python",
   "name": "python",
   "nbconvert_exporter": "python",
   "pygments_lexer": "ipython3",
   "version": "3.8.5"
  }
 },
 "nbformat": 4,
 "nbformat_minor": 2
}
